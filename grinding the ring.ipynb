{
 "cells": [
  {
   "cell_type": "code",
   "execution_count": 18,
   "id": "6393e1fb",
   "metadata": {},
   "outputs": [],
   "source": [
    "import numpy as np\n",
    "%matplotlib inline\n",
    "from matplotlib import pyplot as plt"
   ]
  },
  {
   "cell_type": "code",
   "execution_count": 19,
   "id": "de378252",
   "metadata": {},
   "outputs": [],
   "source": [
    "a = 17.3e-6 # m/(m*K)\n",
    "# from \n",
    "# https://www.engineeringtoolbox.com/linear-expansion-coefficients-d_95.html"
   ]
  },
  {
   "cell_type": "code",
   "execution_count": 20,
   "id": "0e24444f",
   "metadata": {},
   "outputs": [
    {
     "name": "stdout",
     "output_type": "stream",
     "text": [
      "0.27646015351590175\n",
      "0.24504422698000386\n"
     ]
    }
   ],
   "source": [
    "D1 = 88e-3\n",
    "D2 = 78e-3\n",
    "\n",
    "L1 = np.pi*D1\n",
    "L2 = np.pi*D2\n",
    "print (L1)\n",
    "print (L2)"
   ]
  },
  {
   "cell_type": "code",
   "execution_count": 21,
   "id": "26c6dd1e",
   "metadata": {},
   "outputs": [
    {
     "name": "stdout",
     "output_type": "stream",
     "text": [
      "88.03044799999998\n"
     ]
    }
   ],
   "source": [
    "dT = 20\n",
    "# print(L1*(1+a*dT))\n",
    "print(L1*(1+a*dT)/np.pi*1e3)"
   ]
  },
  {
   "cell_type": "code",
   "execution_count": 27,
   "id": "d9770f93",
   "metadata": {},
   "outputs": [
    {
     "data": {
      "text/plain": [
       "[<matplotlib.lines.Line2D at 0x7f9eec2fcb90>]"
      ]
     },
     "execution_count": 27,
     "metadata": {},
     "output_type": "execute_result"
    },
    {
     "data": {
      "image/png": "[encoded data removed]",
      "text/plain": [
       "<Figure size 432x288 with 1 Axes>"
      ]
     },
     "metadata": {
      "needs_background": "light"
     },
     "output_type": "display_data"
    }
   ],
   "source": [
    "angle_arr = np.linspace(0,5)\n",
    "plt.plot(angle_arr, D1/np.cos(angle_arr*np.pi/180)*1e3)\n"
   ]
  },
  {
   "cell_type": "code",
   "execution_count": 25,
   "id": "12a90e50",
   "metadata": {},
   "outputs": [
    {
     "data": {
      "text/plain": [
       "12.80426606528675"
      ]
     },
     "execution_count": 25,
     "metadata": {},
     "output_type": "execute_result"
    }
   ],
   "source": [
    "np.arctan(20/88)*180/np.pi"
   ]
  },
  {
   "cell_type": "code",
   "execution_count": null,
   "id": "ba097424",
   "metadata": {},
   "outputs": [],
   "source": []
  }
 ],
 "metadata": {
  "kernelspec": {
   "display_name": "Python 3 (ipykernel)",
   "language": "python",
   "name": "python3"
  },
  "language_info": {
   "codemirror_mode": {
    "name": "ipython",
    "version": 3
   },
   "file_extension": ".py",
   "mimetype": "text/x-python",
   "name": "python",
   "nbconvert_exporter": "python",
   "pygments_lexer": "ipython3",
   "version": "3.7.4"
  }
 },
 "nbformat": 4,
 "nbformat_minor": 5
}
