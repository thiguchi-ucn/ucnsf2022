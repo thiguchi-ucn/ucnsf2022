{
 "cells": [
  {
   "cell_type": "code",
   "execution_count": 1,
   "metadata": {},
   "outputs": [],
   "source": [
    "import os \n",
    "\n",
    "\n",
    "for p in range(2,11):\n",
    "    Freq = p*20\n",
    "    Name1 = str(Freq) + \"kHz\"\n",
    "    \n",
    "    os.mkdir(Name1)\n",
    "\n",
    "    for i in range(1,21):                                                                                                                                                                                                                                                                                                                                                                                                                                                                                                                                                                                                                                                                                                                                                                                                                                                                                                                                                                                                                                                                                                                                                                                                                                                                                                                                                                                                                                                                                                                                                                                                                                                                                                                                                                                                                                                                                                                                                                                                                                                                                                                                                                                                                                                                                                                                                                                                                                                                                                                                                                                                                                            \n",
    "    \n",
    "        parent_dir = \"40kHz\"\n",
    "        directory = str(i) + \"e-1A\"\n",
    "        path = os.path.join(Name1, directory)\n",
    "        os.mkdir(path)\n",
    "    \n",
    "\n",
    "    "
   ]
  },
  {
   "cell_type": "code",
   "execution_count": 15,
   "metadata": {},
   "outputs": [],
   "source": [
    "import os\n",
    "\n",
    "for i in range (2,11):\n",
    "    \n",
    "    Freq = i*20\n",
    "    path = str(Freq) + \"kHz\"\n",
    "    os.mkdir(path)\n",
    "    \n",
    "    for i in range (1,21):\n",
    "        path2 = path  + str(i) + \"e-1A\"\n",
    "        os.mkdir(path2)"
   ]
  }
 ],
 "metadata": {
  "kernelspec": {
   "display_name": "Python 3 (ipykernel)",
   "language": "python",
   "name": "python3"
  },
  "language_info": {
   "codemirror_mode": {
    "name": "ipython",
    "version": 3
   },
   "file_extension": ".py",
   "mimetype": "text/x-python",
   "name": "python",
   "nbconvert_exporter": "python",
   "pygments_lexer": "ipython3",
   "version": "3.9.9"
  }
 },
 "nbformat": 4,
 "nbformat_minor": 4
}
